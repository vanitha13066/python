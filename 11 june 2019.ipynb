{
 "cells": [
  {
   "cell_type": "markdown",
   "metadata": {},
   "source": [
    "# Markdown Basics\n",
    "\n",
    "\n",
    "**this is bold text **\n",
    "==\n",
    "*this is italic*\n",
    "==\n",
    "***Italic Bold text ***\n",
    "==\n",
    "* Normal Text\n",
    "   * sublist1\n",
    "   * sublist2\n",
    "\n",
    "  \n",
    "  \n",
    "  \n",
    " 1. Ordered list element 1\n",
    " 2. Ordered list element 2\n",
    " \n",
    " \n",
    " \n",
    " \n",
    "  \n",
    " [Jupyter Logo](pict.png)\n",
    " \n",
    " \n",
    " \n",
    " <img src=\"pic.jpg\" style=\"float:right\">\n",
    " \n",
    " \n",
    " \n",
    "\n",
    "\n"
   ]
  },
  {
   "cell_type": "markdown",
   "metadata": {},
   "source": [
    "# python Basics\n",
    "\n",
    "\n",
    "python version 3.7\n",
    "\n",
    "*scripting\n",
    "*object oriented\n",
    "*functional language"
   ]
  },
  {
   "cell_type": "code",
   "execution_count": 8,
   "metadata": {},
   "outputs": [
    {
     "name": "stdout",
     "output_type": "stream",
     "text": [
      "hello world hello python || hello python\n",
      "my name is vanitha\n"
     ]
    }
   ],
   "source": [
    "# python comments\n",
    "\n",
    "print(\"hello world\",\"hello python\", end=\" || \")  #basic output\n",
    "print(\"hello python\")\n",
    "print(\"my name is vanitha\")"
   ]
  },
  {
   "cell_type": "code",
   "execution_count": null,
   "metadata": {},
   "outputs": [],
   "source": []
  },
  {
   "cell_type": "markdown",
   "metadata": {},
   "source": [
    "### ASSIGNMENT\n",
    "\n",
    "\n",
    "\n",
    "\n"
   ]
  },
  {
   "cell_type": "markdown",
   "metadata": {},
   "source": [
    "n1=123456  #single variable assignment\n",
    "\n",
    "n2 = n3 = n4 = n1          #multi variable assignment of the same variable\n",
    "n3\n",
    "\n",
    "\n",
    "a, b, c = 123, 234, 345 #multi variable assignment with different variables\n",
    "\n",
    "\n",
    "b\n",
    "c\n",
    "print(a,b,c)\n"
   ]
  },
  {
   "cell_type": "markdown",
   "metadata": {},
   "source": [
    "# Arithmetic Operations\n",
    "\n",
    "* +\n",
    "* -\n",
    "* *\n",
    "* /\n",
    "* %\n",
    "* **\n",
    "\n",
    "\n",
    "\n",
    "\n"
   ]
  },
  {
   "cell_type": "code",
   "execution_count": 21,
   "metadata": {},
   "outputs": [
    {
     "data": {
      "text/plain": [
       "2"
      ]
     },
     "execution_count": 21,
     "metadata": {},
     "output_type": "execute_result"
    }
   ],
   "source": [
    "n1=12\n",
    "n1 % 11\n",
    "\n",
    "\n",
    "type(n3)\n",
    "len(str(n1))"
   ]
  },
  {
   "cell_type": "code",
   "execution_count": 26,
   "metadata": {},
   "outputs": [
    {
     "name": "stdout",
     "output_type": "stream",
     "text": [
      "3\n",
      "-1\n",
      "2\n",
      "0.5\n",
      "1\n",
      "3 -1 2 0.5\n"
     ]
    },
    {
     "data": {
      "text/plain": [
       "21"
      ]
     },
     "execution_count": 26,
     "metadata": {},
     "output_type": "execute_result"
    }
   ],
   "source": [
    "a=1\n",
    "b=2\n",
    "print(a+b)\n",
    "print(a-b)\n",
    "print(a*b)\n",
    "print(a/b)\n",
    "print(a%b)\n",
    "print(a+b,a-b,a*b,a/b)\n",
    "\n",
    "\n",
    "atoms = 10 ** 20\n",
    "len(str(atoms))"
   ]
  },
  {
   "cell_type": "markdown",
   "metadata": {},
   "source": []
  },
  {
   "cell_type": "markdown",
   "metadata": {},
   "source": [
    "# conditionals\n",
    "\n",
    "\n",
    "\n"
   ]
  },
  {
   "cell_type": "code",
   "execution_count": 27,
   "metadata": {},
   "outputs": [
    {
     "data": {
      "text/plain": [
       "True"
      ]
     },
     "execution_count": 27,
     "metadata": {},
     "output_type": "execute_result"
    }
   ],
   "source": [
    "atoms < 10 ** 99"
   ]
  },
  {
   "cell_type": "markdown",
   "metadata": {},
   "source": [
    "# Data Types\n",
    " \n",
    " * int\n",
    " * float\n",
    " * string\n",
    " * double\n"
   ]
  },
  {
   "cell_type": "code",
   "execution_count": 35,
   "metadata": {},
   "outputs": [
    {
     "data": {
      "text/plain": [
       "12.0"
      ]
     },
     "execution_count": 35,
     "metadata": {},
     "output_type": "execute_result"
    }
   ],
   "source": [
    "f1=12.345\n",
    "type(f1)\n",
    "\n",
    "\n",
    "\n",
    "\n",
    "\n",
    "float(str(int(f1)))"
   ]
  },
  {
   "cell_type": "code",
   "execution_count": null,
   "metadata": {},
   "outputs": [],
   "source": []
  },
  {
   "cell_type": "markdown",
   "metadata": {},
   "source": [
    "\n"
   ]
  },
  {
   "cell_type": "code",
   "execution_count": 4,
   "metadata": {},
   "outputs": [
    {
     "ename": "SyntaxError",
     "evalue": "invalid character in identifier (<ipython-input-4-adbdb6799c50>, line 1)",
     "output_type": "error",
     "traceback": [
      "\u001b[1;36m  File \u001b[1;32m\"<ipython-input-4-adbdb6799c50>\"\u001b[1;36m, line \u001b[1;32m1\u001b[0m\n\u001b[1;33m    num = raw_input(\"Enter a number: \")\u001b[0m\n\u001b[1;37m       ^\u001b[0m\n\u001b[1;31mSyntaxError\u001b[0m\u001b[1;31m:\u001b[0m invalid character in identifier\n"
     ]
    }
   ],
   "source": []
  },
  {
   "cell_type": "code",
   "execution_count": 5,
   "metadata": {},
   "outputs": [
    {
     "name": "stdout",
     "output_type": "stream",
     "text": [
      "13\n"
     ]
    }
   ],
   "source": [
    "a=5\n",
    "b=8\n",
    "n=a+b\n",
    "\n",
    "print(n)\n",
    "\n"
   ]
  },
  {
   "cell_type": "markdown",
   "metadata": {},
   "source": [
    "g = raw_input(\"my name is vanitha\")\n",
    "print(g)"
   ]
  },
  {
   "cell_type": "code",
   "execution_count": 6,
   "metadata": {},
   "outputs": [
    {
     "name": "stdout",
     "output_type": "stream",
     "text": [
      "Enter your value: 123\n",
      "123\n"
     ]
    }
   ],
   "source": [
    "\n",
    "val = input(\"Enter your value: \") \n",
    "print(val) \n",
    "\n"
   ]
  },
  {
   "cell_type": "code",
   "execution_count": 7,
   "metadata": {},
   "outputs": [
    {
     "name": "stdout",
     "output_type": "stream",
     "text": [
      "Enter your name:vanitha\n",
      "vanitha\n"
     ]
    }
   ],
   "source": [
    "str = input(\"Enter your name:\")\n",
    "print(str)"
   ]
  },
  {
   "cell_type": "code",
   "execution_count": 39,
   "metadata": {},
   "outputs": [],
   "source": [
    "    "
   ]
  },
  {
   "cell_type": "code",
   "execution_count": 3,
   "metadata": {},
   "outputs": [
    {
     "ename": "IndentationError",
     "evalue": "expected an indented block (<ipython-input-3-4135d0687bfe>, line 2)",
     "output_type": "error",
     "traceback": [
      "\u001b[1;36m  File \u001b[1;32m\"<ipython-input-3-4135d0687bfe>\"\u001b[1;36m, line \u001b[1;32m2\u001b[0m\n\u001b[1;33m    for i in range(i,20):\u001b[0m\n\u001b[1;37m      ^\u001b[0m\n\u001b[1;31mIndentationError\u001b[0m\u001b[1;31m:\u001b[0m expected an indented block\n"
     ]
    }
   ],
   "source": [
    "\n",
    "            "
   ]
  },
  {
   "cell_type": "code",
   "execution_count": 9,
   "metadata": {},
   "outputs": [
    {
     "name": "stdout",
     "output_type": "stream",
     "text": [
      "number is divisible by 6\n"
     ]
    }
   ],
   "source": [
    "num=12\n",
    "if num%6==0:\n",
    "    print(\"number is divisible by 6\")\n",
    "else:\n",
    "    print(\"number is not divisible by 6\")\n",
    "    "
   ]
  },
  {
   "cell_type": "code",
   "execution_count": null,
   "metadata": {},
   "outputs": [],
   "source": [
    "## Function to find the average of all even numbers\n",
    "## in range(lb,up)"
   ]
  },
  {
   "cell_type": "markdown",
   "metadata": {},
   "source": []
  },
  {
   "cell_type": "code",
   "execution_count": 15,
   "metadata": {},
   "outputs": [
    {
     "ename": "IndentationError",
     "evalue": "expected an indented block (<ipython-input-15-ac3eadb07f3c>, line 4)",
     "output_type": "error",
     "traceback": [
      "\u001b[1;36m  File \u001b[1;32m\"<ipython-input-15-ac3eadb07f3c>\"\u001b[1;36m, line \u001b[1;32m4\u001b[0m\n\u001b[1;33m    fact=fact*i\u001b[0m\n\u001b[1;37m       ^\u001b[0m\n\u001b[1;31mIndentationError\u001b[0m\u001b[1;31m:\u001b[0m expected an indented block\n"
     ]
    }
   ],
   "source": []
  },
  {
   "cell_type": "code",
   "execution_count": 140,
   "metadata": {},
   "outputs": [
    {
     "name": "stdout",
     "output_type": "stream",
     "text": [
      "The factorial of 7 is 5040\n"
     ]
    }
   ],
   "source": [
    "## write a program to find the factorial of a given number\n",
    "\n",
    "\n",
    "num = 7\n",
    "factorial = 1\n",
    "if num < 0:\n",
    "   print(\"factorial does not exist for negative numbers\")\n",
    "elif num == 0:\n",
    "   print(\"The factorial of 0 is 1\")\n",
    "else:\n",
    "   for i in range(1,num + 1):\n",
    "       factorial = factorial*i\n",
    "\n",
    "        \n",
    "print(\"The factorial of\",num,\"is\",factorial)"
   ]
  },
  {
   "cell_type": "code",
   "execution_count": 9,
   "metadata": {},
   "outputs": [
    {
     "data": {
      "text/plain": [
       "24"
      ]
     },
     "execution_count": 9,
     "metadata": {},
     "output_type": "execute_result"
    }
   ],
   "source": [
    "def Armst(n):\n",
    "    temp=n\n",
    "    sum=0\n",
    "    while temp>0:\n",
    "        digit=temp%10\n",
    "        sum=sum+digit**3\n",
    "        temp=temp//10\n",
    "if n==temp:\n",
    "    return True\n",
    "else:\n",
    "    return False\n",
    "Armst(371)"
   ]
  },
  {
   "cell_type": "code",
   "execution_count": 10,
   "metadata": {},
   "outputs": [
    {
     "data": {
      "text/plain": [
       "1"
      ]
     },
     "execution_count": 10,
     "metadata": {},
     "output_type": "execute_result"
    }
   ],
   "source": []
  },
  {
   "cell_type": "code",
   "execution_count": 156,
   "metadata": {},
   "outputs": [
    {
     "data": {
      "text/plain": [
       "False"
      ]
     },
     "execution_count": 156,
     "metadata": {},
     "output_type": "execute_result"
    }
   ],
   "source": [
    "#Write a funciton to print a year is leap or not\n",
    "\n",
    "\n",
    "\n",
    "\n",
    "def Leap(n):\n",
    "    if n%400==0 or n%100!=0 and n%4==0:\n",
    "        return True\n",
    "    else:\n",
    "        return False\n",
    "Leap(2001)"
   ]
  },
  {
   "cell_type": "code",
   "execution_count": 160,
   "metadata": {},
   "outputs": [
    {
     "name": "stdout",
     "output_type": "stream",
     "text": [
      "1920 1924 1928 1932 1936 1940 1944 1948 1952 1956 1960 1964 1968 1972 1976 1980 1984 1988 1992 1996 2000 2004 2008 2012 2016 "
     ]
    }
   ],
   "source": [
    "#WRITE A FUNCTION TO PRINT LEAP YEARS IN A GIVEN RANGE\n",
    "\n",
    "def LeapRange(lw,up):\n",
    "    for i in range(lw,up+1):\n",
    "        if (Leap(i)==True):\n",
    "             print(i,end=\" \")\n",
    "LeapRange(1919,2019)"
   ]
  },
  {
   "cell_type": "code",
   "execution_count": 168,
   "metadata": {},
   "outputs": [
    {
     "name": "stdout",
     "output_type": "stream",
     "text": [
      "1 2 3 4 5 6 7 8 9 10 11 12 13 14 15 16 17 18 19 20 "
     ]
    },
    {
     "data": {
      "text/plain": [
       "20"
      ]
     },
     "execution_count": 168,
     "metadata": {},
     "output_type": "execute_result"
    }
   ],
   "source": [
    "#Write a program to calculate the no of days in a given time period\n",
    "\n",
    "def CountNoofDays(lb,up):\n",
    "    c=0\n",
    "    for i in range(lb,up+1):\n",
    "        print(i,end=\" \")\n",
    "        c=c+1\n",
    "    return c\n",
    "        \n",
    "\n",
    "CountNoofDays(1,20)\n",
    "\n",
    "\n",
    "\n",
    "\n"
   ]
  },
  {
   "cell_type": "code",
   "execution_count": null,
   "metadata": {},
   "outputs": [],
   "source": []
  },
  {
   "cell_type": "code",
   "execution_count": 16,
   "metadata": {},
   "outputs": [
    {
     "name": "stdout",
     "output_type": "stream",
     "text": [
      "54 60 66 72 78 84 90 96 "
     ]
    }
   ],
   "source": []
  },
  {
   "cell_type": "code",
   "execution_count": 55,
   "metadata": {},
   "outputs": [],
   "source": [
    "\n"
   ]
  },
  {
   "cell_type": "code",
   "execution_count": 70,
   "metadata": {},
   "outputs": [
    {
     "data": {
      "text/plain": [
       "64.0"
      ]
     },
     "execution_count": 70,
     "metadata": {},
     "output_type": "execute_result"
    }
   ],
   "source": [
    "## Function to find average of cubes of all even number\n",
    "##in a given range(lb,ub)\n",
    "\n",
    "\n",
    "def Even(l,u):\n",
    "    for i in range(l,u):\n",
    "        sum=0\n",
    "        count=0\n",
    "        if i%2==0:\n",
    "            sum=sum+i**3\n",
    "            count=count+1\n",
    "    return sum/count\n",
    "    \n",
    "            \n",
    "    \n",
    "Even(1,5)\n",
    "\n",
    "\n",
    "\n",
    "\n",
    "\n"
   ]
  },
  {
   "cell_type": "code",
   "execution_count": 13,
   "metadata": {},
   "outputs": [
    {
     "data": {
      "text/plain": [
       "True"
      ]
     },
     "execution_count": 13,
     "metadata": {},
     "output_type": "execute_result"
    }
   ],
   "source": [
    "## write a function to print a number is prime or not\n",
    "\n",
    "\n",
    "def IsPrime(n):\n",
    "    flag= True\n",
    "    for i in range(2,n//2):\n",
    "        if n%i==0:\n",
    "            flag=False\n",
    "            return flag\n",
    "    return flag\n",
    "IsPrime(4)\n",
    "\n",
    "    \n",
    "\n",
    "\n",
    "\n",
    "\n"
   ]
  },
  {
   "cell_type": "code",
   "execution_count": 15,
   "metadata": {},
   "outputs": [
    {
     "data": {
      "text/plain": [
       "False"
      ]
     },
     "execution_count": 15,
     "metadata": {},
     "output_type": "execute_result"
    }
   ],
   "source": [
    "\n",
    "        ##another way of prime number or not\n",
    "def Prime(n):\n",
    "    count=0\n",
    "    for i in range(1,n+1):\n",
    "        if n%i==0:\n",
    "            count=count+1\n",
    "    if count==2:\n",
    "        return True\n",
    "    else:\n",
    "        return False\n",
    "Prime(4)\n",
    "        "
   ]
  },
  {
   "cell_type": "code",
   "execution_count": 107,
   "metadata": {},
   "outputs": [
    {
     "name": "stdout",
     "output_type": "stream",
     "text": [
      "2 3 5 7 11 13 17 19 "
     ]
    }
   ],
   "source": [
    "def PrimeRange(lw,up):\n",
    "    for i in range(lw,up):\n",
    "        if Prime(i)==True:\n",
    "            print(i,end=\" \")\n",
    "PrimeRange(1,20)\n",
    "    \n"
   ]
  },
  {
   "cell_type": "markdown",
   "metadata": {},
   "source": [
    "# print alternate no.s\n",
    "\n",
    "\n",
    "\n",
    "def alternate(start,end):\n",
    "    for value in range(start,end+1,2):\n",
    "        print(value,end=\" \")\n",
    "    return \n",
    "alternate(500,525)"
   ]
  },
  {
   "cell_type": "code",
   "execution_count": 23,
   "metadata": {},
   "outputs": [
    {
     "name": "stdout",
     "output_type": "stream",
     "text": [
      "521 520 519 518 517 516 515 514 513 512 511 510 509 508 507 506 505 504 503 502 501 "
     ]
    }
   ],
   "source": [
    "#Function to print reverse of a given range\n",
    "\n",
    "\n",
    "def Reverse(start,end):\n",
    "    for value in range(end+1,start,-1):\n",
    "        print(value,end=\" \")\n",
    "    return\n",
    "Reverse(500,520)"
   ]
  },
  {
   "cell_type": "code",
   "execution_count": 29,
   "metadata": {},
   "outputs": [
    {
     "name": "stdout",
     "output_type": "stream",
     "text": [
      "11 9 7 5 3 "
     ]
    }
   ],
   "source": [
    "#print odd numbers in a range in reverse order\n",
    "\n",
    "\n",
    "\n",
    "def Oddnumber(lb,ub):\n",
    "    for value in range(ub+1,lb,-1):\n",
    "        if value%2==1:\n",
    "            print(value,end=\" \")\n",
    "    return \n",
    "Oddnumber(1,10)\n",
    "            "
   ]
  },
  {
   "cell_type": "code",
   "execution_count": 46,
   "metadata": {},
   "outputs": [],
   "source": [
    "def IsPrime(n):\n",
    "    flag= True\n",
    "    for i in range(2,n//2):\n",
    "        if n%i==0:\n",
    "            print(\"it is prime\",flag)\n",
    "        else:\n",
    "            print(\"it is not prime\",flag)\n",
    "        return\n",
    "\n",
    "    \n",
    "IsPrime(3)\n",
    "\n",
    "\n",
    "\n"
   ]
  },
  {
   "cell_type": "code",
   "execution_count": 51,
   "metadata": {},
   "outputs": [
    {
     "data": {
      "text/plain": [
       "55"
      ]
     },
     "execution_count": 51,
     "metadata": {},
     "output_type": "execute_result"
    }
   ],
   "source": [
    "\n",
    "##write a function to print sum of numbers in a given range\n",
    "\n",
    "def SumRange(start,end):\n",
    "    sum=0\n",
    "    for i in range(start,end+1):\n",
    "        sum=sum+i\n",
    "         \n",
    "    return sum\n",
    "SumRange(1,10)\n",
    "\n",
    "\n",
    "\n",
    "\n"
   ]
  },
  {
   "cell_type": "code",
   "execution_count": 67,
   "metadata": {},
   "outputs": [
    {
     "name": "stdout",
     "output_type": "stream",
     "text": [
      "1 2 3 4 5 6 7 8 9 10 "
     ]
    },
    {
     "data": {
      "text/plain": [
       "5.5"
      ]
     },
     "execution_count": 67,
     "metadata": {},
     "output_type": "execute_result"
    }
   ],
   "source": [
    "\n",
    "#function to calculate the average of a given range\n",
    "def SumRange(start,end):\n",
    "    sum=0\n",
    "    count=0\n",
    "    \n",
    "    \n",
    "    for i in range(start,end+1):\n",
    "        print(i,end=\" \")      \n",
    "        sum=sum+i  #sum calculation\n",
    "        count=count+1  #counting number of values\n",
    "    return sum/count\n",
    "\n",
    "\n",
    "SumRange(1,10)\n",
    "\n"
   ]
  },
  {
   "cell_type": "code",
   "execution_count": 86,
   "metadata": {},
   "outputs": [
    {
     "data": {
      "text/plain": [
       "True"
      ]
     },
     "execution_count": 86,
     "metadata": {},
     "output_type": "execute_result"
    }
   ],
   "source": [
    "##Write a program to find a number is perfect or not\n",
    "\n",
    "\n",
    "\n",
    "def Perfect(n):\n",
    "    sum=0\n",
    "    for i in range(1,n):\n",
    "        if n%i==0:\n",
    "            sum=sum+i\n",
    "    if sum==n:\n",
    "        return True\n",
    "    else: return False\n",
    "Perfect(6)\n",
    "        \n",
    "        \n",
    "        \n",
    "\n",
    "\n",
    "    \n",
    "    \n",
    "    \n",
    "    \n",
    "    \n",
    "    "
   ]
  },
  {
   "cell_type": "code",
   "execution_count": 124,
   "metadata": {},
   "outputs": [
    {
     "name": "stdout",
     "output_type": "stream",
     "text": [
      "6 28 "
     ]
    }
   ],
   "source": [
    "#Write a function to print all perfect numbers in a given range\n",
    "\n",
    "\n",
    "\n",
    "\n",
    "def Range(lw,up):\n",
    "    for i in range(lw,up):\n",
    "        if Perfect(i)==True:\n",
    "            print(i,end=\" \")\n",
    "Range(1,50)"
   ]
  },
  {
   "cell_type": "code",
   "execution_count": null,
   "metadata": {},
   "outputs": [],
   "source": []
  },
  {
   "cell_type": "code",
   "execution_count": 121,
   "metadata": {},
   "outputs": [
    {
     "name": "stdout",
     "output_type": "stream",
     "text": [
      "2 3 5 7 "
     ]
    },
    {
     "data": {
      "text/plain": [
       "4.0"
      ]
     },
     "execution_count": 121,
     "metadata": {},
     "output_type": "execute_result"
    }
   ],
   "source": [
    "##write a function to print average of prime numbers in a given range\n",
    "\n",
    "\n",
    "\n",
    "\n",
    "def PrimeRange(lw,up):\n",
    "    sum=0\n",
    "    count=0\n",
    "    for i in range(lw,up):\n",
    "        if Prime(i)==True:\n",
    "            print(i,end=\" \")\n",
    "            sum=sum+i\n",
    "            count=count+1\n",
    "            avg=float(sum//count)\n",
    "    return avg\n",
    "PrimeRange(1,10)\n",
    "    \n"
   ]
  },
  {
   "cell_type": "code",
   "execution_count": null,
   "metadata": {},
   "outputs": [],
   "source": []
  },
  {
   "cell_type": "code",
   "execution_count": 6,
   "metadata": {},
   "outputs": [
    {
     "data": {
      "text/plain": [
       "True"
      ]
     },
     "execution_count": 6,
     "metadata": {},
     "output_type": "execute_result"
    }
   ],
   "source": [
    "##Write a function to find a number is Armstrong or not\n",
    "\n",
    "def Armst(n):\n",
    "    temp=n\n",
    "    sum=0\n",
    "    order = len(str(n))\n",
    "    while temp>0:\n",
    "        digit=temp%10\n",
    "        sum=sum+digit**order\n",
    "        temp=temp//10\n",
    "    if n==sum:\n",
    "        return True\n",
    "    else:\n",
    "        return False\n",
    "Armst(1634)"
   ]
  },
  {
   "cell_type": "code",
   "execution_count": null,
   "metadata": {},
   "outputs": [],
   "source": [
    "##Write a program in function to find the Armstrong numbers with in the intervel\n",
    "\n",
    "def Armstrong(lb,up):\n",
    "    for i in range(lb,up+1):\n",
    "        if Armst(i)==True:\n",
    "            print(i,end=\" \")\n",
    "Armstrong(20,1000)"
   ]
  },
  {
   "cell_type": "code",
   "execution_count": null,
   "metadata": {},
   "outputs": [],
   "source": []
  },
  {
   "cell_type": "code",
   "execution_count": 24,
   "metadata": {},
   "outputs": [
    {
     "data": {
      "text/plain": [
       "False"
      ]
     },
     "execution_count": 24,
     "metadata": {},
     "output_type": "execute_result"
    }
   ],
   "source": [
    "#Write a program in function to find a number is palindrome or not\n",
    "\n",
    "\n",
    "def Palindrome(n):\n",
    "    temp=n\n",
    "    rev=0\n",
    "    while(n>0):\n",
    "        rem=n%10\n",
    "        rev=rev*10+rem\n",
    "        n=n//10\n",
    "    if(temp==rev):\n",
    "        return True\n",
    "    else:\n",
    "        return False\n",
    "Palindrome(221)"
   ]
  },
  {
   "cell_type": "code",
   "execution_count": 23,
   "metadata": {},
   "outputs": [
    {
     "name": "stdout",
     "output_type": "stream",
     "text": [
      "1 2 3 4 5 6 7 8 9 11 22 33 44 55 66 77 88 99 101 111 121 131 141 151 161 171 181 191 202 212 222 232 242 252 262 272 282 292 303 313 323 333 343 353 363 373 383 393 404 414 424 434 444 454 464 474 484 494 "
     ]
    }
   ],
   "source": [
    "\n",
    "##Write a program in function to find the PALINDROMES with in the interval\n",
    "\n",
    "def PalindromeRange(lb,ub):\n",
    "    for i in range(lb,ub+1):\n",
    "        if Palindrome(i)==True:\n",
    "            print(i,end=\" \")\n",
    "PalindromeRange(1,500)"
   ]
  },
  {
   "cell_type": "code",
   "execution_count": 11,
   "metadata": {},
   "outputs": [
    {
     "name": "stdout",
     "output_type": "stream",
     "text": [
      "1 3 5 "
     ]
    }
   ],
   "source": [
    "#Write a program to print ALL THE FACTORS OF A GIVEN NUMBER\n",
    "\n",
    "\n",
    "def PrintFactors(n):\n",
    "    for i in range(1,n):\n",
    "        if n%i==0:\n",
    "            print(i,end=\" \")\n",
    "PrintFactors(15)"
   ]
  },
  {
   "cell_type": "code",
   "execution_count": 34,
   "metadata": {},
   "outputs": [
    {
     "name": "stdout",
     "output_type": "stream",
     "text": [
      "not divisible by 10\n"
     ]
    }
   ],
   "source": [
    "##write a program to find a number is divisible by 10 or not\n",
    "\n",
    "\n",
    "n=33\n",
    "if n%10==0:\n",
    "    print(\"divisible by 10\")\n",
    "else:\n",
    "    print(\"not divisible by 10\")"
   ]
  },
  {
   "cell_type": "code",
   "execution_count": 3,
   "metadata": {},
   "outputs": [
    {
     "name": "stdout",
     "output_type": "stream",
     "text": [
      "16.0\n"
     ]
    }
   ],
   "source": [
    "x=256\n",
    "print(x**0.5)"
   ]
  },
  {
   "cell_type": "code",
   "execution_count": 12,
   "metadata": {},
   "outputs": [
    {
     "data": {
      "text/plain": [
       "120"
      ]
     },
     "execution_count": 12,
     "metadata": {},
     "output_type": "execute_result"
    }
   ],
   "source": []
  },
  {
   "cell_type": "code",
   "execution_count": 7,
   "metadata": {},
   "outputs": [
    {
     "name": "stdout",
     "output_type": "stream",
     "text": [
      "1 "
     ]
    }
   ],
   "source": []
  },
  {
   "cell_type": "code",
   "execution_count": 8,
   "metadata": {},
   "outputs": [
    {
     "data": {
      "text/plain": [
       "14"
      ]
     },
     "execution_count": 8,
     "metadata": {},
     "output_type": "execute_result"
    }
   ],
   "source": [
    "##Function to print sumof the squares\n",
    "\n",
    "def SumOfSquares(n):\n",
    "    sum=0\n",
    "    for i in range(1,n+1):\n",
    "        if i<=n:\n",
    "            sum=sum+i**2\n",
    "    return sum\n",
    "SumOfSquares(3)\n",
    "        \n",
    "\n"
   ]
  },
  {
   "cell_type": "code",
   "execution_count": null,
   "metadata": {},
   "outputs": [],
   "source": []
  }
 ],
 "metadata": {
  "kernelspec": {
   "display_name": "Python 3",
   "language": "python",
   "name": "python3"
  },
  "language_info": {
   "codemirror_mode": {
    "name": "ipython",
    "version": 3
   },
   "file_extension": ".py",
   "mimetype": "text/x-python",
   "name": "python",
   "nbconvert_exporter": "python",
   "pygments_lexer": "ipython3",
   "version": "3.7.3"
  }
 },
 "nbformat": 4,
 "nbformat_minor": 2
}
